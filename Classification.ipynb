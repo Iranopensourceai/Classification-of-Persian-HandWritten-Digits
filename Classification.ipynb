{
 "cells": [
  {
   "attachments": {},
   "cell_type": "markdown",
   "metadata": {},
   "source": [
    "## Classification of HODA Dataset with KNN"
   ]
  },
  {
   "cell_type": "code",
   "execution_count": 2,
   "metadata": {},
   "outputs": [
    {
     "name": "stdout",
     "output_type": "stream",
     "text": [
      "Reading Train 60000.cdb ...\n",
      "Reading Test 20000.cdb ...\n",
      "Reading RemainingSamples.cdb ...\n",
      "Reading train dataset (Train 60000.cdb)...\n",
      "Reading test dataset (Test 20000.cdb)...\n",
      "Reading remaining samples dataset (RemainingSamples.cdb)...\n"
     ]
    }
   ],
   "source": [
    "from matplotlib import pyplot as plt\n",
    "from HodaDatasetReader import read_hoda_cdb, read_hoda_dataset\n",
    "print('Reading Train 60000.cdb ...')\n",
    "train_images, train_labels = read_hoda_cdb('./DigitDB/Train 60000.cdb')\n",
    "print('Reading Test 20000.cdb ...')\n",
    "test_images, test_labels = read_hoda_cdb('./DigitDB/Test 20000.cdb')\n",
    "print('Reading RemainingSamples.cdb ...')\n",
    "remaining_images, remaining_labels = read_hoda_cdb('./DigitDB/RemainingSamples.cdb')\n",
    "print('Reading train dataset (Train 60000.cdb)...')\n",
    "X_train, Y_train = read_hoda_dataset(dataset_path='./DigitDB/Train 60000.cdb',\n",
    "                                images_height=32,\n",
    "                                images_width=32,\n",
    "                                one_hot=False,\n",
    "                                reshape=True)\n",
    "print('Reading test dataset (Test 20000.cdb)...')\n",
    "X_test, Y_test = read_hoda_dataset(dataset_path='./DigitDB/Test 20000.cdb',\n",
    "                              images_height=32,\n",
    "                              images_width=32,\n",
    "                              one_hot=True,\n",
    "                              reshape=False)\n",
    "print('Reading remaining samples dataset (RemainingSamples.cdb)...')\n",
    "X_remaining, Y_remaining = read_hoda_dataset('./DigitDB/RemainingSamples.cdb',\n",
    "                                             images_height=32,\n",
    "                                             images_width=32,\n",
    "                                             one_hot=True,\n",
    "                                             reshape=True)"
   ]
  },
  {
   "attachments": {},
   "cell_type": "markdown",
   "metadata": {},
   "source": [
    "### We Must Work on these :\n",
    "\n",
    "X_train , X_test , X_remaining\n",
    "\n",
    "Y_train, Y_test , Y_remaining"
   ]
  },
  {
   "cell_type": "code",
   "execution_count": 42,
   "metadata": {},
   "outputs": [
    {
     "name": "stdout",
     "output_type": "stream",
     "text": [
      "X_train (Images) shape  : (60000, 1024) -----> Must Reshape to (32,32)\n",
      "Y_train (Labels) shape : (60000,)\n",
      "------------\n",
      "X_test (Images) shape  : (20000, 32, 32, 1)\n",
      "Y_test (Labels) shape : (20000, 10)\n",
      "------------\n",
      "X_remaining (Images) shape : (22352, 1024) -----> Must Reshape to (32,32)\n",
      "Y_remaining (Labels) shape : (22352, 10)\n"
     ]
    }
   ],
   "source": [
    "print('X_train (Images) shape  :',X_train.shape,'----->','Must Reshape to (32,32)')\n",
    "print('Y_train (Labels) shape :',Y_train.shape)\n",
    "print('------------')\n",
    "print('X_test (Images) shape  :',X_test.shape)\n",
    "print('Y_test (Labels) shape :',Y_test.shape)\n",
    "print('------------')\n",
    "print('X_remaining (Images) shape :',X_remaining.shape,'----->','Must Reshape to (32,32)')\n",
    "print('Y_remaining (Labels) shape :',Y_remaining.shape)\n"
   ]
  },
  {
   "attachments": {},
   "cell_type": "markdown",
   "metadata": {},
   "source": [
    "### Importing Libraries"
   ]
  },
  {
   "cell_type": "code",
   "execution_count": 36,
   "metadata": {},
   "outputs": [],
   "source": [
    "import numpy as np \n",
    "import matplotlib.pyplot as plt"
   ]
  },
  {
   "attachments": {},
   "cell_type": "markdown",
   "metadata": {},
   "source": [
    "X_train & Y_train Samples"
   ]
  },
  {
   "cell_type": "code",
   "execution_count": 39,
   "metadata": {},
   "outputs": [
    {
     "data": {
      "image/png": "[encoded data removed]",
      "text/plain": [
       "<Figure size 640x480 with 9 Axes>"
      ]
     },
     "metadata": {},
     "output_type": "display_data"
    }
   ],
   "source": [
    "for i in range (1,10):\n",
    "    plt.subplot(3,3,i)\n",
    "    plt.tight_layout()\n",
    "    plt.title('Label of this Image : '+str(Y_train[i]),pad=5,color='red',fontsize=8)\n",
    "    plt.imshow((X_train[i].reshape(32,32)),cmap='gray')\n"
   ]
  }
 ],
 "metadata": {
  "kernelspec": {
   "display_name": "base",
   "language": "python",
   "name": "python3"
  },
  "language_info": {
   "codemirror_mode": {
    "name": "ipython",
    "version": 3
   },
   "file_extension": ".py",
   "mimetype": "text/x-python",
   "name": "python",
   "nbconvert_exporter": "python",
   "pygments_lexer": "ipython3",
   "version": "3.9.15"
  },
  "orig_nbformat": 4,
  "vscode": {
   "interpreter": {
    "hash": "240a9eba56af4ccccc022e914092f0a08053872f577c5356692d82fa4c2f7f48"
   }
  }
 },
 "nbformat": 4,
 "nbformat_minor": 2
}
